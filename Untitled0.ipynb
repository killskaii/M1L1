{
  "nbformat": 4,
  "nbformat_minor": 0,
  "metadata": {
    "colab": {
      "provenance": [],
      "authorship_tag": "ABX9TyMVLJMsZPE4uC9qi2P/PLf3",
      "include_colab_link": true
    },
    "kernelspec": {
      "name": "python3",
      "display_name": "Python 3"
    },
    "language_info": {
      "name": "python"
    }
  },
  "cells": [
    {
      "cell_type": "markdown",
      "metadata": {
        "id": "view-in-github",
        "colab_type": "text"
      },
      "source": [
        "<a href=\"https://colab.research.google.com/github/killskaii/M1L1/blob/main/Untitled0.ipynb\" target=\"_parent\"><img src=\"https://colab.research.google.com/assets/colab-badge.svg\" alt=\"Open In Colab\"/></a>"
      ]
    },
    {
      "cell_type": "code",
      "execution_count": 1,
      "metadata": {
        "colab": {
          "base_uri": "https://localhost:8080/"
        },
        "id": "Whu-kpGfBAqo",
        "outputId": "9dd2f347-50f8-4f2b-e7d4-31ef0adcf93e"
      },
      "outputs": [
        {
          "output_type": "stream",
          "name": "stdout",
          "text": [
            "Преобразование A_bin в список: [1, 2, 4, 6, 9]\n",
            "Преобразование A в двоичный вектор: [0, 1, 1, 0, 1, 0, 1, 0, 0, 1]\n",
            "\n",
            "Тестирование операций:\n",
            "Множества: [1, 3, 4, 5, 9] [1, 2, 3, 4, 5]\n",
            "Объединение: [1, 2, 3, 4, 5, 9]\n",
            "Пересечение: [1, 3, 4, 5]\n",
            "Разность: [9]\n",
            "Симметрическая разность: [2, 9]\n",
            "Дополнение A: [0, 2, 6, 7, 8]\n",
            "Дополнение B: [0, 6, 7, 8, 9]\n"
          ]
        }
      ],
      "source": [
        "# Универсум - {0, 1, 2, 3, 4, 5, 6, 7, 8, 9}\n",
        "\n",
        "# структура данных \"множество как двоичный вектор\"\n",
        "A_bin = [0, 1, 1, 0, 1, 0, 1, 0, 0, 1]\n",
        "\n",
        "# структура данных \"множество как список значений\"\n",
        "A = [1, 2, 4, 6, 9]\n",
        "\n",
        "# преобразует множество из одного представления в другое -\n",
        "#  двоичный вектор в список\n",
        "def SET_convert_bin_to_list(M_bin):\n",
        "    assert(len(M_bin) == 10)\n",
        "    M_list = []\n",
        "    for i in range(0, 10):\n",
        "        if M_bin[i]:\n",
        "            M_list.append(i)\n",
        "    return M_list\n",
        "\n",
        "# преобразует множество из одного представления в другое -\n",
        "#  список в двоичный вектор\n",
        "def SET_convert_list_to_bin(M_list):\n",
        "    M_bin = [0] * 10\n",
        "    for elem in M_list:\n",
        "        M_bin[elem] = 1\n",
        "    return M_bin\n",
        "\n",
        "# возвращает объединение двух множеств, представленных\n",
        "#  в виде двоичных векторов\n",
        "def SET_bin_union(A, B):\n",
        "    return [1 if A[i] or B[i] else 0 for i in range(10)]\n",
        "\n",
        "# возвращает пересечение двух множеств, представленных\n",
        "#  в виде двоичных векторов\n",
        "def SET_bin_intersection(A, B):\n",
        "    return [1 if A[i] and B[i] else 0 for i in range(10)]\n",
        "\n",
        "# возвращает разность двух множеств, представленных\n",
        "#  в виде двоичных векторов\n",
        "def SET_bin_difference(A, B):\n",
        "    return [1 if A[i] and not B[i] else 0 for i in range(10)]\n",
        "\n",
        "# возвращает симметрическую разность двух множеств, представленных\n",
        "#  в виде двоичных векторов\n",
        "def SET_bin_symm_difference(A, B):\n",
        "    return [1 if A[i] != B[i] else 0 for i in range(10)]\n",
        "\n",
        "# возвращает дополнение множества\n",
        "def SET_bin_complement(A):\n",
        "    return [1 if not A[i] else 0 for i in range(10)]\n",
        "\n",
        "def test_set_operations(A_list, B_list):\n",
        "    A_bin = SET_convert_list_to_bin(A_list)\n",
        "    B_bin = SET_convert_list_to_bin(B_list)\n",
        "    print(\"Множества:\", SET_convert_bin_to_list(A_bin), SET_convert_bin_to_list(B_bin))\n",
        "    print(\"Объединение:\", SET_convert_bin_to_list(SET_bin_union(A_bin, B_bin)))\n",
        "    print(\"Пересечение:\", SET_convert_bin_to_list(SET_bin_intersection(A_bin, B_bin)))\n",
        "    print(\"Разность:\", SET_convert_bin_to_list(SET_bin_difference(A_bin, B_bin)))\n",
        "    print(\"Симметрическая разность:\", SET_convert_bin_to_list(SET_bin_symm_difference(A_bin, B_bin)))\n",
        "    print(\"Дополнение A:\", SET_convert_bin_to_list(SET_bin_complement(A_bin)))\n",
        "    print(\"Дополнение B:\", SET_convert_bin_to_list(SET_bin_complement(B_bin)))\n",
        "\n",
        "print(\"Преобразование A_bin в список:\", SET_convert_bin_to_list(A_bin))\n",
        "print(\"Преобразование A в двоичный вектор:\", SET_convert_list_to_bin(A))\n",
        "\n",
        "# тестирование\n",
        "print(\"\\nТестирование операций:\")\n",
        "A = [4, 5, 3, 1, 9]\n",
        "B = [1, 2, 3, 4, 5]\n",
        "test_set_operations(A, B)"
      ]
    }
  ]
}