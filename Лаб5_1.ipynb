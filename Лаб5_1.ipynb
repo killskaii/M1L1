{
  "nbformat": 4,
  "nbformat_minor": 0,
  "metadata": {
    "colab": {
      "provenance": [],
      "authorship_tag": "ABX9TyMzWFkiiC2mZaFfDNCOtr8P",
      "include_colab_link": true
    },
    "kernelspec": {
      "name": "python3",
      "display_name": "Python 3"
    },
    "language_info": {
      "name": "python"
    }
  },
  "cells": [
    {
      "cell_type": "markdown",
      "metadata": {
        "id": "view-in-github",
        "colab_type": "text"
      },
      "source": [
        "<a href=\"https://colab.research.google.com/github/killskaii/M1L1/blob/main/%D0%9B%D0%B0%D0%B15_1.ipynb\" target=\"_parent\"><img src=\"https://colab.research.google.com/assets/colab-badge.svg\" alt=\"Open In Colab\"/></a>"
      ]
    },
    {
      "cell_type": "code",
      "execution_count": 24,
      "metadata": {
        "colab": {
          "base_uri": "https://localhost:8080/"
        },
        "id": "YbmtkZekWyuf",
        "outputId": "9d5f7ae2-6224-4c84-bb86-3a3e3a5661cb"
      },
      "outputs": [
        {
          "output_type": "stream",
          "name": "stdout",
          "text": [
            "{'D': 7, 'E': 5, 'M': 1, 'N': 6, 'O': 0, 'R': 8, 'S': 9, 'Y': 2}\n"
          ]
        }
      ],
      "source": [
        "from itertools import permutations\n",
        "\n",
        "def solve_rebus(equation):\n",
        "    words = equation.replace(' ', '').split('=')\n",
        "    left_part = words[0].replace('+', ' ').replace('-', ' ').split()\n",
        "    right_part = words[1]\n",
        "\n",
        "    all_chars = set(''.join(left_part + [right_part]))\n",
        "    if len(all_chars) > 10:\n",
        "        return \"Слишком много уникальных букв\"\n",
        "\n",
        "    first_chars = {word[0] for word in left_part + [right_part]}\n",
        "    n = len(all_chars)\n",
        "\n",
        "    for perm in permutations(range(10), n):\n",
        "        mapping = {c: d for c, d in zip(all_chars, perm)}\n",
        "\n",
        "        # Проверяем, что первые цифры не нули\n",
        "        if any(mapping[fc] == 0 for fc in first_chars):\n",
        "            continue\n",
        "\n",
        "        # Подставляем цифры\n",
        "        left_sum = 0\n",
        "        for word in left_part:\n",
        "            num = int(''.join(str(mapping[c]) for c in word))\n",
        "            left_sum += num\n",
        "\n",
        "        right_num = int(''.join(str(mapping[c]) for c in right_part))\n",
        "\n",
        "        if left_sum == right_num:\n",
        "            return {c: mapping[c] for c in sorted(mapping)}\n",
        "\n",
        "    return \"Решение не найдено\"\n",
        "\n",
        "                      # Пример ребуса: SEND + MORE = MONEY\n",
        "print(solve_rebus(\"SEND + MORE = MONEY\"))\n"
      ]
    }
  ]
}